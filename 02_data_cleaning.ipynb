{
 "cells": [
  {
   "cell_type": "code",
   "execution_count": 2,
   "id": "359a3671-da47-4f84-9904-dac1c756b63f",
   "metadata": {},
   "outputs": [
    {
     "name": "stdout",
     "output_type": "stream",
     "text": [
      "Data has been cleaned successfully\n"
     ]
    },
    {
     "data": {
      "text/plain": [
       "{'users': [{'id': 1, 'name': 'Amit', 'friends': [2, 3], 'liked_pages': [101]},\n",
       "  {'id': 2, 'name': 'Priya', 'friends': [1, 4], 'liked_pages': [102]},\n",
       "  {'id': 4, 'name': 'Sara', 'friends': [2], 'liked_pages': [104]}],\n",
       " 'pages': [{'id': 101, 'name': 'Python Developers'},\n",
       "  {'id': 102, 'name': 'Data Science Enthusiasts'},\n",
       "  {'id': 103, 'name': 'AI & ML Community'},\n",
       "  {'id': 104, 'name': 'Web Development'}]}"
      ]
     },
     "execution_count": 2,
     "metadata": {},
     "output_type": "execute_result"
    }
   ],
   "source": [
    "import json\n",
    "def clean_data(data):\n",
    "    #remove users with messing names\n",
    "    data[\"users\"] = [user for user in data[\"users\"] if user[\"name\"].strip()]\n",
    "\n",
    "\n",
    "    #remove duplicate friends\n",
    "    for user in data[\"users\"]:\n",
    "        user['friends'] = list(set(user['friends']))\n",
    "\n",
    "    #remove inactive users\n",
    "    data['users'] = [user for user in data['users'] if user['friends'] or user['liked_pages']]\n",
    "\n",
    "\n",
    "    #remove duplicate friends\n",
    "    unique_pages = {}\n",
    "    for page in data['pages']:\n",
    "        unique_pages[page['id']] = page\n",
    "    data['pages']=list(unique_pages.values())\n",
    "   \n",
    "    return data\n",
    "\n",
    "#load the data\n",
    "data = json.load(open(\"data2.json\"))\n",
    "data = clean_data(data)\n",
    "json.dump(data,open(\"cleaned_data2.json\",\"w\"),indent=4)\n",
    "print(\"Data has been cleaned successfully\")\n",
    "clean_data(data)"
   ]
  },
  {
   "cell_type": "code",
   "execution_count": null,
   "id": "ced1db54-f573-43de-a666-a8c85fdfa86a",
   "metadata": {},
   "outputs": [],
   "source": []
  }
 ],
 "metadata": {
  "kernelspec": {
   "display_name": "Python 3 (ipykernel)",
   "language": "python",
   "name": "python3"
  },
  "language_info": {
   "codemirror_mode": {
    "name": "ipython",
    "version": 3
   },
   "file_extension": ".py",
   "mimetype": "text/x-python",
   "name": "python",
   "nbconvert_exporter": "python",
   "pygments_lexer": "ipython3",
   "version": "3.12.7"
  }
 },
 "nbformat": 4,
 "nbformat_minor": 5
}
