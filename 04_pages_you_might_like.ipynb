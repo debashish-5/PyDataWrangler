{
 "cells": [
  {
   "cell_type": "code",
   "execution_count": 7,
   "id": "63a145cc-5ec9-4339-b8bc-0a7b7f85042e",
   "metadata": {},
   "outputs": [
    {
     "name": "stdout",
     "output_type": "stream",
     "text": [
      "[103, 104, 105, 106, 107, 108, 109, 110, 111, 112, 113, 114, 115, 116, 117, 118, 119, 120, 121, 122, 123, 124, 125, 126, 127]\n"
     ]
    }
   ],
   "source": [
    "import json\n",
    "\n",
    "#function to load the json data\n",
    "def load_data(filename):\n",
    "    with open(filename,\"r\")as f:\n",
    "        return json.load(f)\n",
    "\n",
    "#function to find a pages a user might like based on common intrests\n",
    "def find_pages_you_might_like(user_id,data):\n",
    "    #Dictionary store the user intractions with pages\n",
    "    user_pages={}\n",
    "    #palpulate the Dictionary\n",
    "    for user in data['users']:\n",
    "        user_pages[user['id']] = set(user['liked_pages'])\n",
    "\n",
    "    #if the user is not found return an empty list\n",
    "    if user_id not in user_pages:\n",
    "        return []\n",
    "\n",
    "    user_liked_pages = user_pages[user_id]\n",
    "    page_suggestion ={}\n",
    "\n",
    "    for other_user,pages in user_pages.items():\n",
    "        if other_user != user_id:\n",
    "            shared_pages = user_liked_pages.intersection(pages)\n",
    "\n",
    "        for page in pages:\n",
    "            if page not in user_liked_pages:\n",
    "                page_suggestion[page] = page_suggestion.get('get',0) + len(shared_pages)\n",
    "\n",
    "\n",
    "    sorted_pages = sorted(page_suggestion.items(),key=lambda x: x[1],reverse=True)\n",
    "    return[page_id for page_id, _ in sorted_pages]\n",
    "\n",
    "data = load_data(\"massive_data.json\")\n",
    "user_id = 1\n",
    "page_recommendation = find_pages_you_might_like(user_id,data)\n",
    "print(page_recommendation)\n",
    " "
   ]
  },
  {
   "cell_type": "code",
   "execution_count": null,
   "id": "0faa40ee-3596-4d83-9d5b-cf0c3964cddc",
   "metadata": {},
   "outputs": [],
   "source": []
  },
  {
   "cell_type": "code",
   "execution_count": null,
   "id": "ef57c547-3451-49ee-a7d6-16f2490320e9",
   "metadata": {},
   "outputs": [],
   "source": []
  }
 ],
 "metadata": {
  "kernelspec": {
   "display_name": "Python 3 (ipykernel)",
   "language": "python",
   "name": "python3"
  },
  "language_info": {
   "codemirror_mode": {
    "name": "ipython",
    "version": 3
   },
   "file_extension": ".py",
   "mimetype": "text/x-python",
   "name": "python",
   "nbconvert_exporter": "python",
   "pygments_lexer": "ipython3",
   "version": "3.12.7"
  }
 },
 "nbformat": 4,
 "nbformat_minor": 5
}
