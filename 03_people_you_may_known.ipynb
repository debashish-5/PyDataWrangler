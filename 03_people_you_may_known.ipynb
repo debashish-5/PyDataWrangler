{
 "cells": [
  {
   "cell_type": "code",
   "execution_count": 11,
   "id": "30e75ee9-973a-48b8-a369-c404b824fb64",
   "metadata": {},
   "outputs": [
    {
     "name": "stdout",
     "output_type": "stream",
     "text": [
      "[7, 8, 9, 10, 11, 12]\n"
     ]
    }
   ],
   "source": [
    "import json\n",
    "\n",
    "def load_data(filename):\n",
    "    with open(filename,\"r\") as f:\n",
    "        return json.load(f)\n",
    "\n",
    "def find_people_you_may_know(user_id,data):\n",
    "    user_friends ={}\n",
    "    for user in data['users']:\n",
    "        user_friends[user['id']] = set(user['friends'])\n",
    "        \n",
    "    if user_id not in user_friends:\n",
    "        return[]\n",
    "        \n",
    "    direct_friends = user_friends[user_id]\n",
    "    suggestions ={}\n",
    "    for friend in direct_friends:\n",
    "         for mutual in user_friends[friend]: \n",
    "             if mutual != user_id and mutual not in direct_friends:\n",
    "                 \n",
    "\n",
    "\n",
    "             #count mutual friends\n",
    "                suggestions[mutual] = suggestions.get(mutual,0) + 1\n",
    "    sorted_suggestions = sorted(suggestions.items(),key=lambda x: x[1],reverse=True)\n",
    "    return [user_id for user_id,mutual_count in sorted_suggestions]\n",
    "\n",
    "\n",
    "\n",
    "\n",
    "\n",
    "#load data\n",
    "data = load_data(\"massive_data.json\")\n",
    "user_id = 1\n",
    "recc = find_people_you_may_know(user_id,data)\n",
    "print(recc)\n",
    "\n",
    "\n",
    "\n"
   ]
  },
  {
   "cell_type": "code",
   "execution_count": null,
   "id": "eefbd2b4-6c2d-405e-bff7-26a1c2cb74cb",
   "metadata": {},
   "outputs": [],
   "source": []
  }
 ],
 "metadata": {
  "kernelspec": {
   "display_name": "Python 3 (ipykernel)",
   "language": "python",
   "name": "python3"
  },
  "language_info": {
   "codemirror_mode": {
    "name": "ipython",
    "version": 3
   },
   "file_extension": ".py",
   "mimetype": "text/x-python",
   "name": "python",
   "nbconvert_exporter": "python",
   "pygments_lexer": "ipython3",
   "version": "3.12.7"
  }
 },
 "nbformat": 4,
 "nbformat_minor": 5
}
